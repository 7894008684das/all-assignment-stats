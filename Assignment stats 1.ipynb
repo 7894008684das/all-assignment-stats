{
 "cells": [
  {
   "cell_type": "markdown",
   "metadata": {},
   "source": [
    "### Calculate the mean, median, mode and standard deviation for the problem statements 1& 2.\n",
    "## Problem Statement 1:\n",
    "The marks awarded for an assignment set for a Year 8 class of 20 students were as\n",
    "follows:\n",
    "6 7 5 7 7 8 7 6 9 7 4 10 6 8 8 9 5 6 4 8"
   ]
  },
  {
   "cell_type": "code",
   "execution_count": 1,
   "metadata": {},
   "outputs": [],
   "source": [
    "import numpy as np\n",
    "import statistics as st"
   ]
  },
  {
   "cell_type": "code",
   "execution_count": 2,
   "metadata": {},
   "outputs": [],
   "source": [
    "data = np.array([6,7,5,7,7,8,7,6,9,7,4,10,6,8,8,9,5,6,4,8])"
   ]
  },
  {
   "cell_type": "code",
   "execution_count": 3,
   "metadata": {},
   "outputs": [
    {
     "data": {
      "text/plain": [
       "6"
      ]
     },
     "execution_count": 3,
     "metadata": {},
     "output_type": "execute_result"
    }
   ],
   "source": [
    "# mean\n",
    "st.mean(data)"
   ]
  },
  {
   "cell_type": "code",
   "execution_count": 4,
   "metadata": {},
   "outputs": [
    {
     "data": {
      "text/plain": [
       "7.0"
      ]
     },
     "execution_count": 4,
     "metadata": {},
     "output_type": "execute_result"
    }
   ],
   "source": [
    "# median\n",
    "st.median(data)"
   ]
  },
  {
   "cell_type": "code",
   "execution_count": 5,
   "metadata": {},
   "outputs": [
    {
     "data": {
      "text/plain": [
       "7"
      ]
     },
     "execution_count": 5,
     "metadata": {},
     "output_type": "execute_result"
    }
   ],
   "source": [
    "# made\n",
    "st.mode(data)"
   ]
  },
  {
   "cell_type": "code",
   "execution_count": 6,
   "metadata": {},
   "outputs": [
    {
     "data": {
      "text/plain": [
       "1.5898113095584647"
      ]
     },
     "execution_count": 6,
     "metadata": {},
     "output_type": "execute_result"
    }
   ],
   "source": [
    "# standard deviation\n",
    "np.std(data)"
   ]
  },
  {
   "cell_type": "markdown",
   "metadata": {},
   "source": [
    "## Problem Statement 2:\n",
    "### The number of calls from motorists per day for roadside service was recorded for a\n",
    "particular month:\n",
    "28, 122, 217, 130, 120, 86, 80, 90, 140, 120, 70, 40, 145, 113, 90, 68, 174, 194, 170,\n",
    "100, 75, 104, 97, 75,\n",
    "123, 100, 75, 104, 97, 75, 123, 100, 89, 120, 109"
   ]
  },
  {
   "cell_type": "code",
   "execution_count": 7,
   "metadata": {},
   "outputs": [],
   "source": [
    "data1 = np.array([28,122,217,130,120,86,80,90,140,120,70,40,145,113,90,68,174,194,170,100,75,104,97,75,123,100,75,104,97,75,123,100,89,120,109])"
   ]
  },
  {
   "cell_type": "code",
   "execution_count": 8,
   "metadata": {},
   "outputs": [
    {
     "data": {
      "text/plain": [
       "107"
      ]
     },
     "execution_count": 8,
     "metadata": {},
     "output_type": "execute_result"
    }
   ],
   "source": [
    "# mean\n",
    "st.mean(data1)"
   ]
  },
  {
   "cell_type": "code",
   "execution_count": 9,
   "metadata": {},
   "outputs": [
    {
     "data": {
      "text/plain": [
       "100"
      ]
     },
     "execution_count": 9,
     "metadata": {},
     "output_type": "execute_result"
    }
   ],
   "source": [
    "# median\n",
    "st.median(data1)"
   ]
  },
  {
   "cell_type": "code",
   "execution_count": 10,
   "metadata": {},
   "outputs": [
    {
     "data": {
      "text/plain": [
       "75"
      ]
     },
     "execution_count": 10,
     "metadata": {},
     "output_type": "execute_result"
    }
   ],
   "source": [
    "st.mode(data1)"
   ]
  },
  {
   "cell_type": "code",
   "execution_count": 11,
   "metadata": {},
   "outputs": [
    {
     "data": {
      "text/plain": [
       "38.77287080168403"
      ]
     },
     "execution_count": 11,
     "metadata": {},
     "output_type": "execute_result"
    }
   ],
   "source": [
    "np.std(data1)"
   ]
  },
  {
   "cell_type": "markdown",
   "metadata": {},
   "source": [
    "## Problem Statement 3:\n",
    "The number of times I go to the gym in weekdays, are given below along with its\n",
    "associated probability:\n",
    "x = 0, 1, 2, 3, 4, 5\n",
    "f(x) = 0.09, 0.15, 0.40, 0.25, 0.10, 0.01\n",
    "Calculate the mean no. of workouts in a week. Also evaluate the variance involved in\n",
    "it."
   ]
  },
  {
   "cell_type": "code",
   "execution_count": 12,
   "metadata": {},
   "outputs": [],
   "source": [
    "x = np.asarray([0,1,2,3,4,5])\n",
    "f_x = np.array([0.09,0.15,0.40,0.25,0.10,0.01])"
   ]
  },
  {
   "cell_type": "code",
   "execution_count": 13,
   "metadata": {},
   "outputs": [
    {
     "data": {
      "text/plain": [
       "array([[0, 1, 2, 3, 4, 5]])"
      ]
     },
     "execution_count": 13,
     "metadata": {},
     "output_type": "execute_result"
    }
   ],
   "source": [
    "x.reshape((1,-1))\n"
   ]
  },
  {
   "cell_type": "code",
   "execution_count": 14,
   "metadata": {},
   "outputs": [
    {
     "data": {
      "text/plain": [
       "array([[0.09],\n",
       "       [0.15],\n",
       "       [0.4 ],\n",
       "       [0.25],\n",
       "       [0.1 ],\n",
       "       [0.01]])"
      ]
     },
     "execution_count": 14,
     "metadata": {},
     "output_type": "execute_result"
    }
   ],
   "source": [
    "f_x.reshape((-1,1))"
   ]
  },
  {
   "cell_type": "code",
   "execution_count": 15,
   "metadata": {},
   "outputs": [],
   "source": [
    "mean=np.dot(x,f_x)"
   ]
  },
  {
   "cell_type": "code",
   "execution_count": 16,
   "metadata": {},
   "outputs": [],
   "source": [
    " # x-mean is ( xi - u )\n",
    "variance_of_x=(x-mean)**2"
   ]
  },
  {
   "cell_type": "code",
   "execution_count": 17,
   "metadata": {},
   "outputs": [],
   "source": [
    "variance = np.dot(variance_of_x,f_x)"
   ]
  },
  {
   "cell_type": "code",
   "execution_count": 18,
   "metadata": {},
   "outputs": [
    {
     "data": {
      "text/plain": [
       "1.2275"
      ]
     },
     "execution_count": 18,
     "metadata": {},
     "output_type": "execute_result"
    }
   ],
   "source": [
    "variance"
   ]
  },
  {
   "cell_type": "code",
   "execution_count": 19,
   "metadata": {},
   "outputs": [
    {
     "name": "stdout",
     "output_type": "stream",
     "text": [
      "mean =  2.15\n",
      "variance =  1.2275\n"
     ]
    }
   ],
   "source": [
    "print (\"mean = \",mean)\n",
    "print (\"variance = \",variance)"
   ]
  },
  {
   "cell_type": "markdown",
   "metadata": {},
   "source": [
    "# Problem Statement 4:\n",
    "## Let the continuous random variable D denote the diameter of the hole drilled in an\n",
    "## aluminum sheet. The target diameter to be achieved is 12.5mm. Random\n",
    "## disturbances in the process often result in inaccuracy.\n",
    "## Historical data shows that the distribution of D can be modelled by the PDF (d) =\n",
    "## 20e−20(d−12.5), d ≥ 12.5. If a part with diameter > 12.6 mm needs to be scrapped,\n",
    "## what is the proportion of those parts? What is the CDF when the diameter is of 11\n",
    "## mm? What is your conclusion regarding the proportion of scraps?"
   ]
  },
  {
   "cell_type": "code",
   "execution_count": 20,
   "metadata": {},
   "outputs": [],
   "source": [
    "from scipy import integrate"
   ]
  },
  {
   "cell_type": "code",
   "execution_count": 21,
   "metadata": {},
   "outputs": [
    {
     "name": "stdout",
     "output_type": "stream",
     "text": [
      "Proportion of Parts need to scrapped when d >12.6mm is : 0.13533528323661398\n",
      "CDF when d= 11mm is: -inf\n",
      "Proportion of CDF when d>12.5mm is : 1.0000000000000024\n"
     ]
    },
    {
     "name": "stderr",
     "output_type": "stream",
     "text": [
      "<ipython-input-21-c06326dd9829>:3: RuntimeWarning: overflow encountered in exp\n",
      "  PDF = lambda d:20*(np.exp((-20*(d-12.5))))\n"
     ]
    }
   ],
   "source": [
    "#PDF (d) = 20e−20(d−12.5), d ≥ 12.5\n",
    "#d >= 12.5 \n",
    "PDF = lambda d:20*(np.exp((-20*(d-12.5))))\n",
    "x = 12.6\n",
    "Px=integrate.quad(PDF,x,np.inf)\n",
    "y = 11\n",
    "CDF = integrate.quad(PDF, y,-np.inf)\n",
    "print(\"Proportion of Parts need to scrapped when d >12.6mm is :\" ,Px[0])\n",
    "print(\"CDF when d= 11mm is:\", CDF[0])\n",
    "print(\"Proportion of CDF when d>12.5mm is :\", integrate.quad(PDF,12.5,np.inf)[0])"
   ]
  },
  {
   "cell_type": "markdown",
   "metadata": {},
   "source": [
    "# Problem Statement 5:\n",
    "\n",
    "## A company manufactures LED bulbs with a faulty rate of 30%. If I randomly select 6 chosen LEDs, what is the probability of having 2 faulty LEDs in my sample? Calculate the average value of this process. Also evaluate the standard deviation associated with it."
   ]
  },
  {
   "cell_type": "code",
   "execution_count": 22,
   "metadata": {},
   "outputs": [],
   "source": [
    "import pandas as pd\n",
    "import scipy\n",
    "import matplotlib.pyplot as plt\n",
    "%matplotlib inline\n",
    "import seaborn as sns\n",
    "q = 0.3\n",
    "p = 0.7\n",
    "N = 6\n",
    "n=4\n",
    "import math"
   ]
  },
  {
   "cell_type": "code",
   "execution_count": 23,
   "metadata": {},
   "outputs": [],
   "source": [
    "z = math.factorial(6)"
   ]
  },
  {
   "cell_type": "code",
   "execution_count": 24,
   "metadata": {},
   "outputs": [],
   "source": [
    "z1 = math.factorial(4)"
   ]
  },
  {
   "cell_type": "code",
   "execution_count": 25,
   "metadata": {},
   "outputs": [],
   "source": [
    "z2=math.factorial(N-n)"
   ]
  },
  {
   "cell_type": "code",
   "execution_count": 26,
   "metadata": {},
   "outputs": [],
   "source": [
    "a=z/(z1*z2)"
   ]
  },
  {
   "cell_type": "code",
   "execution_count": 27,
   "metadata": {},
   "outputs": [
    {
     "data": {
      "text/plain": [
       "15.0"
      ]
     },
     "execution_count": 27,
     "metadata": {},
     "output_type": "execute_result"
    }
   ],
   "source": [
    "a"
   ]
  },
  {
   "cell_type": "code",
   "execution_count": 28,
   "metadata": {},
   "outputs": [
    {
     "data": {
      "text/plain": [
       "0.3241349999999999"
      ]
     },
     "execution_count": 28,
     "metadata": {},
     "output_type": "execute_result"
    }
   ],
   "source": [
    "a * (p**n)*(q**(N-n))"
   ]
  },
  {
   "cell_type": "code",
   "execution_count": 29,
   "metadata": {},
   "outputs": [
    {
     "name": "stdout",
     "output_type": "stream",
     "text": [
      "a      2.000000\n",
      "B_a    0.324135\n",
      "Name: 2, dtype: float64\n",
      "mean = 2.0\n",
      "Standard Deviation : 1.0\n"
     ]
    },
    {
     "name": "stderr",
     "output_type": "stream",
     "text": [
      "c:\\users\\abhishek das\\appdata\\local\\programs\\python\\python38-32\\lib\\site-packages\\seaborn\\_decorators.py:36: FutureWarning: Pass the following variables as keyword args: x, y. From version 0.12, the only valid positional argument will be `data`, and passing other arguments without an explicit keyword will result in an error or misinterpretation.\n",
      "  warnings.warn(\n"
     ]
    },
    {
     "data": {
      "image/png": "[encoded data removed]",
      "text/plain": [
       "<Figure size 1080x360 with 1 Axes>"
      ]
     },
     "metadata": {
      "needs_background": "light"
     },
     "output_type": "display_data"
    }
   ],
   "source": [
    "q = 0.3\n",
    "p = 0.7\n",
    "df=pd.DataFrame({'a':[int(i) for i in range(7)],\n",
    "                 'B_a':[scipy.special.comb(6,i)*(q**i)*(p**(6-i)) for i in range(7)]})\n",
    "print(df.iloc[2])\n",
    "plt.figure(figsize=(15,5))\n",
    "sns.barplot('a','B_a',data=df)\n",
    "plt.xlabel('Number of Faulty Leds')\n",
    "plt.ylabel('Probability of Fault')\n",
    "df['Expected value']=df['a']*df['B_a']\n",
    "mean=np.round(df['Expected value'].sum())\n",
    "print('mean = {}'.format(mean))\n",
    "df['variance']=df['B_a']*(df['a']-mean)**2\n",
    "std=np.sqrt(df['variance'].sum())\n",
    "print(f\"Standard Deviation : {np.round(std)}\")"
   ]
  },
  {
   "cell_type": "markdown",
   "metadata": {},
   "source": [
    "# Problem Statement 6:\n",
    "## Gaurav and Barakha are both preparing for entrance exams. Gaurav attempts to solve 8 questions per day with a correction rate of 75%, while Barakha averages around 12 questions per day with a correction rate of 45%. What is the probability that each of them will solve 5 questions correctly? What happens in cases of 4 and 6 correct solutions? What do you infer from it? What are the two main governing factors affecting their ability to solve questions correctly? Give a pictorial representation of the same to validate your answer."
   ]
  },
  {
   "cell_type": "code",
   "execution_count": 30,
   "metadata": {},
   "outputs": [
    {
     "name": "stdout",
     "output_type": "stream",
     "text": [
      "Probability of each of them solving 5 questions correctly is: 0.04619989057299213\n",
      "Probability of each of them solving 4,6 questions correctly is: 0.018374956477894576\n"
     ]
    }
   ],
   "source": [
    "\n",
    "#Gaurav- avg=,p1=0.75\n",
    "#Barakha- avg=5,p2=0.45\n",
    "\n",
    "from scipy.stats import binom\n",
    "import numpy as np\n",
    "\n",
    "print(\"Probability of each of them solving 5 questions correctly is:\", binom.pmf(5,8,0.75)*binom.pmf(5,12,0.45))\n",
    "print(\"Probability of each of them solving 4,6 questions correctly is:\", binom.pmf(4,8,0.75)*binom.pmf(6,12,0.45))"
   ]
  },
  {
   "cell_type": "code",
   "execution_count": 31,
   "metadata": {},
   "outputs": [],
   "source": [
    "def ploting (n,p,):\n",
    "    fig,ax=plt.subplots(1,1)\n",
    "    x = np.arange(binom.ppf(0.01, n, p),binom.ppf(0.99, n, p))\n",
    "    ax.plot(x, binom.pmf(x, n, p), 'bo', ms=8, label='binom pmf')\n",
    "    ax.vlines(x, 0, binom.pmf(x, n, p), colors='b', lw=5, alpha=0.5)"
   ]
  },
  {
   "cell_type": "code",
   "execution_count": 32,
   "metadata": {},
   "outputs": [
    {
     "data": {
      "image/png": "[encoded data removed]",
      "text/plain": [
       "<Figure size 432x288 with 1 Axes>"
      ]
     },
     "metadata": {
      "needs_background": "light"
     },
     "output_type": "display_data"
    }
   ],
   "source": [
    "ploting(8,0.75)"
   ]
  },
  {
   "cell_type": "code",
   "execution_count": 33,
   "metadata": {},
   "outputs": [
    {
     "data": {
      "image/png": "[encoded data removed]",
      "text/plain": [
       "<Figure size 432x288 with 1 Axes>"
      ]
     },
     "metadata": {
      "needs_background": "light"
     },
     "output_type": "display_data"
    }
   ],
   "source": [
    "ploting(12,0.45)"
   ]
  },
  {
   "cell_type": "code",
   "execution_count": 34,
   "metadata": {},
   "outputs": [
    {
     "data": {
      "text/plain": [
       "<matplotlib.collections.LineCollection at 0x12d2a028>"
      ]
     },
     "execution_count": 34,
     "metadata": {},
     "output_type": "execute_result"
    },
    {
     "data": {
      "image/png": "[encoded data removed]",
      "text/plain": [
       "<Figure size 432x288 with 1 Axes>"
      ]
     },
     "metadata": {
      "needs_background": "light"
     },
     "output_type": "display_data"
    }
   ],
   "source": [
    "fig,ax=plt.subplots(1,1)\n",
    "x = np.arange(1,11)\n",
    "ax.plot(x, binom.pmf(x,8,0.75)*binom.pmf(x,12,0.45), 'bo', ms=8, label='binom pmf')\n",
    "ax.vlines(x, 0, binom.pmf(x,8,0.75)*binom.pmf(x,12,0.45), colors='b', lw=5, alpha=0.5)"
   ]
  },
  {
   "cell_type": "markdown",
   "metadata": {},
   "source": [
    "# Problem Statement 7\n",
    "## Customers arrive at a rate of 72 per hour to my shop. What is the probability of 𝑘 customers arriving in 4 minutes? a) 5 customers, b) not more than 3 customers, c) more than 3 customers. Give a pictorial representation of the same to validate your answer."
   ]
  },
  {
   "cell_type": "code",
   "execution_count": 35,
   "metadata": {},
   "outputs": [
    {
     "name": "stdout",
     "output_type": "stream",
     "text": [
      "The probability of arriving 5 cutomers in 4 minutes is : 0.17474768364388296\n",
      "The probability of arriving not more than 3 customers in 4 minutes is : 0.15169069760753714\n",
      "The Probability of more than 3 customers arriving in 4 minutes is : 0.7057700835034357\n"
     ]
    },
    {
     "data": {
      "text/plain": [
       "Text(0, 0.5, 'Probability')"
      ]
     },
     "execution_count": 35,
     "metadata": {},
     "output_type": "execute_result"
    },
    {
     "data": {
      "image/png": "[encoded data removed]",
      "text/plain": [
       "<Figure size 1080x360 with 1 Axes>"
      ]
     },
     "metadata": {
      "needs_background": "light"
     },
     "output_type": "display_data"
    }
   ],
   "source": [
    "from scipy.stats import poisson\n",
    "#We need to calculate average number of customers arriving per 4 minutes\n",
    "#72/60 customers come per minute\n",
    "mu = 4*(72/60) #customers come per 4 minutes\n",
    "print(f\"The probability of arriving 5 cutomers in 4 minutes is : {poisson.pmf(k=5,mu=mu)}\")\n",
    "print(f\"The probability of arriving not more than 3 customers in 4 minutes is : {poisson.pmf(k=3, mu=mu)}\")\n",
    "print(f'The Probability of more than 3 customers arriving in 4 minutes is : {1-poisson.cdf(k=3,mu=mu)}')\n",
    "x = list(range(0,10))\n",
    "fig,ax = plt.subplots(1,1,figsize=(15,5))\n",
    "ax.plot(x, poisson.pmf(x,mu), 'bo', ms=8, label='poisson pmf')\n",
    "ax.vlines(x, 0, poisson.pmf(x, mu), colors='b', lw=5, alpha=0.5)\n",
    "plt.xlabel('Number of customers')\n",
    "plt.ylabel('Probability')"
   ]
  },
  {
   "cell_type": "markdown",
   "metadata": {},
   "source": [
    "# Problem Statement 8:\n",
    "## I work as a data analyst in Aeon Learning Pvt. Ltd. After analyzing data, I make reports, where I have the efficiency of entering 77 words per minute with 6 errors per hour. What is the probability that I will commit 2 errors in a 455-word financial report? What happens when the no. of words increases/decreases (in case of 1000 words, 255 words)?\n",
    "## How is the 𝜆 affected?\n",
    "## How does it influence the PMF?\n",
    "## Give a pictorial representation of the same to validate your answer."
   ]
  },
  {
   "cell_type": "code",
   "execution_count": 36,
   "metadata": {},
   "outputs": [
    {
     "name": "stdout",
     "output_type": "stream",
     "text": [
      "2 errors in a 455 word 0.09669027375144444\n",
      "2 errors in a 1000 word 0.23012815007300153\n",
      "2 errors in a 255 word 0.039377135392854104\n"
     ]
    },
    {
     "data": {
      "text/plain": [
       "<matplotlib.collections.LineCollection at 0x12d9da78>"
      ]
     },
     "execution_count": 36,
     "metadata": {},
     "output_type": "execute_result"
    },
    {
     "data": {
      "image/png": "[encoded data removed]",
      "text/plain": [
       "<Figure size 1080x360 with 1 Axes>"
      ]
     },
     "metadata": {
      "needs_background": "light"
     },
     "output_type": "display_data"
    }
   ],
   "source": [
    "from scipy.stats import poisson\n",
    "# No of errors in minute is 6/60 = 0.1\n",
    "error = 0.1/77\n",
    "\n",
    "def word(n):\n",
    "    return n * error\n",
    "\n",
    "print(\"2 errors in a 455 word\", poisson.pmf(2,mu=word(455)))\n",
    "print('2 errors in a 1000 word', poisson.pmf(2,mu=word(1000)))\n",
    "print('2 errors in a 255 word', poisson.pmf(2,mu=word(255)))\n",
    "x=range(100,1000,50)\n",
    "mu=[i*error for i in x]\n",
    "fig,ax = plt.subplots(1,1,figsize=(15,5))\n",
    "ax.plot(x,poisson.pmf(2,mu), 'bo', ms=8, label='poisson pmf')\n",
    "ax.vlines(x,0, poisson.pmf(2,mu), colors='b', lw=5, alpha=0.5)"
   ]
  },
  {
   "cell_type": "markdown",
   "metadata": {},
   "source": [
    "# Problem Statement 9:\n",
    "\n",
    "Let the continuous random variable D denote the diameter of the hole drilled in an\n",
    "aluminum sheet. The target diameter to be achieved is 12.5mm. Random\n",
    "disturbances in the process often result in inaccuracy.\n",
    "Historical data shows that the distribution of D can be modelled by the PDF, f(d) =\n",
    "20e−20(d−12.5), d ≥ 12.5. If a part with diameter > 12.6 mm needs to be scrapped,\n",
    "what is the proportion of those parts? What is the CDF when the diameter is of 11\n",
    "mm?\n",
    "What is the conclusion of this experiment?"
   ]
  },
  {
   "cell_type": "code",
   "execution_count": 37,
   "metadata": {},
   "outputs": [
    {
     "name": "stdout",
     "output_type": "stream",
     "text": [
      "Proportion of Parts need to scrapped when d >12.6mm is : 0.13533528323661398\n",
      "CDF when d= 11mm is: -inf\n",
      "Proportion of CDF when d>12.5mm is : 1.0000000000000024\n"
     ]
    },
    {
     "name": "stderr",
     "output_type": "stream",
     "text": [
      "<ipython-input-37-50f26a6edad8>:4: RuntimeWarning: overflow encountered in exp\n",
      "  PDF = lambda d:20*(np.exp((-20*(d-12.5))))\n"
     ]
    }
   ],
   "source": [
    "from scipy import integrate\n",
    "#PDF (d) = 20e−20(d−12.5), d ≥ 12.5\n",
    "#d >= 12.5 \n",
    "PDF = lambda d:20*(np.exp((-20*(d-12.5))))\n",
    "x = 12.6\n",
    "Px=integrate.quad(PDF,x,np.inf)\n",
    "y = 11\n",
    "CDF = integrate.quad(PDF, y,-np.inf)\n",
    "print(\"Proportion of Parts need to scrapped when d >12.6mm is :\" ,Px[0])\n",
    "print(\"CDF when d= 11mm is:\", CDF[0])\n",
    "print(\"Proportion of CDF when d>12.5mm is :\", integrate.quad(PDF,12.5,np.inf)[0])"
   ]
  },
  {
   "cell_type": "markdown",
   "metadata": {},
   "source": [
    "# Problem Statement 10:\n",
    "Please compute the following:\n",
    "\n",
    "a) P(Z > 1.26), . P(Z < −0.86), P(Z > −1.37), P(−1.25 < Z < 0.37), . P(Z ≤ −4.6)\n",
    "\n",
    "b) Find the value 𝑧 such that 𝑃(𝑍 > 𝑧) = 0.05\n",
    "\n",
    "c) Find the value of 𝑧 such that 𝑃(−𝑧 < 𝑍 < 𝑧) = 0.99\n"
   ]
  },
  {
   "cell_type": "code",
   "execution_count": 38,
   "metadata": {},
   "outputs": [
    {
     "name": "stdout",
     "output_type": "stream",
     "text": [
      "P(Z>1.26) = 0.10383\n",
      "P(Z<-0.86) = 0.19489\n",
      "P(Z>-1.37) = 0.91466\n",
      "P(−1.25 < Z < 0.37) = 0.53866\n",
      "P(Z ≤ −4.6) = 0.00000\n",
      "P(Z>z)=0.05 is 1.64\n",
      "𝑃(−𝑧 < 𝑍 < 𝑧) = 0.99 is 2.58\n"
     ]
    }
   ],
   "source": [
    "from scipy.stats import norm\n",
    "def P(z,b=-np.inf) :\n",
    "    return integrate.quad(norm.pdf,b,z)[0]\n",
    "\n",
    "print('P(Z>1.26) = %.5f'%(1-P(1.26)))\n",
    "print('P(Z<-0.86) = %.5f'%P(-0.86))\n",
    "print('P(Z>-1.37) = %.5f'%(1-P(-1.37)))\n",
    "print('P(−1.25 < Z < 0.37) = %.5f'%P(0.37,b=-1.25))\n",
    "print('P(Z ≤ −4.6) = %.5f'%P(-4.6))\n",
    "print('P(Z>z)=0.05 is %.2f'%(-1*norm.ppf(0.05)))\n",
    "print('𝑃(−𝑧 < 𝑍 < 𝑧) = 0.99 is %.2f'%(abs(norm.ppf(0.005))))"
   ]
  },
  {
   "cell_type": "markdown",
   "metadata": {},
   "source": [
    "# Problem Statement 11:\n",
    "\n",
    "The current flow in a copper wire follow a normal distribution with a mean of 10 mA\n",
    "and a variance of 4 (mA)2.\n",
    "What is the probability that a current measurement will exceed 13 mA? What is the\n",
    "probability that a current measurement is between 9 and 11mA? Determine the\n",
    "current measurement which has a probability of 0.98."
   ]
  },
  {
   "cell_type": "code",
   "execution_count": 40,
   "metadata": {},
   "outputs": [
    {
     "name": "stdout",
     "output_type": "stream",
     "text": [
      "Probability that current > 13mA is: 0.06680720126885797\n",
      "Probability that current is between 9 mA and 11 mA is : 1.3085375387259144\n"
     ]
    }
   ],
   "source": [
    "mean = 10\n",
    "std = np.sqrt(4)\n",
    "def I(z, b=-np.inf):\n",
    "    z = (z-mean)/std\n",
    "    return integrate.quad(norm.pdf,b,z)[0]\n",
    "print(f\"Probability that current > 13mA is: {1-I(13)}\")\n",
    "print(f\"Probability that current is between 9 mA and 11 mA is : {1-I(11,b=9)}\")"
   ]
  },
  {
   "cell_type": "markdown",
   "metadata": {},
   "source": [
    "# Problem Statement 12:\n",
    "The shaft in a piston has its diameter normally distributed with a mean of 0.2508 inch and a standard deviation of 0.0005 inch. The specifications of the shaft are 0.2500 ∓0.0015 inch. What proportion of shafts are in sync with the specifications? If the process is centered so that the mean is equal to the target value of 0.2500, what proportion of shafts conform to the new specifications? What is your conclusion from this experiment?"
   ]
  },
  {
   "cell_type": "code",
   "execution_count": 41,
   "metadata": {},
   "outputs": [
    {
     "name": "stdout",
     "output_type": "stream",
     "text": [
      "Proportion of shafts with dia in range of 0.2485<d<0.2515 when mean diameter:(0.2508, None)\n",
      "Proportion of shafts with dia in range of 0.2485<d<0.2515 when mean diameter:(0.25, None)\n"
     ]
    }
   ],
   "source": [
    "mean_dia=0.2508\n",
    "std_dia=0.0005\n",
    "#specified dia in the range of 0.2485<d<0.2515\n",
    "#case-1 if mean_dia=0.2508\n",
    "def I(mean,std,a,b) :\n",
    "  #gives P(Z<=x)\n",
    "  a=(a-mean)/std\n",
    "  b=(b-mean)/std\n",
    "print(f\"Proportion of shafts with dia in range of 0.2485<d<0.2515 when mean diameter:{0.2508,I(0.2508,0.0005,0.2485,0.2515)}\")\n",
    "print(f\"Proportion of shafts with dia in range of 0.2485<d<0.2515 when mean diameter:{0.2500,I(0.2500,0.0005,0.2485,0.2515)}\")"
   ]
  },
  {
   "cell_type": "code",
   "execution_count": null,
   "metadata": {},
   "outputs": [],
   "source": []
  }
 ],
 "metadata": {
  "kernelspec": {
   "display_name": "Python 3",
   "language": "python",
   "name": "python3"
  },
  "language_info": {
   "codemirror_mode": {
    "name": "ipython",
    "version": 3
   },
   "file_extension": ".py",
   "mimetype": "text/x-python",
   "name": "python",
   "nbconvert_exporter": "python",
   "pygments_lexer": "ipython3",
   "version": "3.8.2"
  }
 },
 "nbformat": 4,
 "nbformat_minor": 4
}
